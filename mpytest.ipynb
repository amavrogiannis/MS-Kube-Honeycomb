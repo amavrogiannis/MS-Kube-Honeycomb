{
 "cells": [
  {
   "cell_type": "code",
   "execution_count": 13,
   "metadata": {},
   "outputs": [
    {
     "name": "stdout",
     "output_type": "stream",
     "text": [
      "{'apiVersion': 'networking.k8s.io/v1', 'data': {'HONEYCOMB_API_KEY': 'NmlSQW9IRUNiZnB0TGZ2R3RUOGVZRQ=='}, 'kind': 'Ingress', 'metadata': {'creationTimestamp': None, 'name': 'blogapp', 'annotations': {'nginx.ingress.kubernetes.io/add-base-url': 'true', 'nginx.ingress.kubernetes.io/service-upstream': 'true'}}, 'spec': {'ingressClassName': 'alb', 'rules': [{'http': {'paths': [{'backend': {'service': {'name': 'flaskapp', 'port': {'number': 80}}}, 'path': '/', 'pathType': 'Prefix'}]}}]}, 'status': {'loadBalancer': {}}}\n"
     ]
    }
   ],
   "source": [
    "import yaml\n",
    "\n",
    "kube_file_path = \"manifests/demoManifest.yml\"\n",
    "\n",
    "with open(kube_file_path, \"r\") as kube_file:\n",
    "    try:\n",
    "        data = yaml.safe_load(kube_file)\n",
    "        \n",
    "        print(data)\n",
    "    except yaml.YAMLError as e:\n",
    "        print(e)"
   ]
  },
  {
   "cell_type": "code",
   "execution_count": null,
   "metadata": {},
   "outputs": [],
   "source": []
  }
 ],
 "metadata": {
  "kernelspec": {
   "display_name": "Python 3",
   "language": "python",
   "name": "python3"
  },
  "language_info": {
   "codemirror_mode": {
    "name": "ipython",
    "version": 3
   },
   "file_extension": ".py",
   "mimetype": "text/x-python",
   "name": "python",
   "nbconvert_exporter": "python",
   "pygments_lexer": "ipython3",
   "version": "3.11.4"
  },
  "orig_nbformat": 4
 },
 "nbformat": 4,
 "nbformat_minor": 2
}
